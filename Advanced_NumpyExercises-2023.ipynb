{
 "cells": [
  {
   "cell_type": "markdown",
   "metadata": {},
   "source": [
    "# Numpy Exercises\n",
    "\n",
    "Try out more exercises with Numpy. Please write code to give sample outputs as shown below for each question. \n"
   ]
  },
  {
   "cell_type": "code",
   "execution_count": 3,
   "metadata": {},
   "outputs": [],
   "source": [
    "import numpy as np"
   ]
  },
  {
   "cell_type": "code",
   "execution_count": null,
   "metadata": {},
   "outputs": [],
   "source": []
  },
  {
   "cell_type": "markdown",
   "metadata": {},
   "source": [
    "1. Write a Python program to find the maximum and minimum value of a given **flattened array**. \n",
    "Use flatten() function\n",
    "\n",
    "Expected Output:\n",
    "Original flattened array:\n",
    "\n",
    "[[0 1]\n",
    "\n",
    "[2 3]]\n",
    "\n",
    "Maximum value of the above flattened array: 3\n",
    "\n",
    "Minimum value of the above flattened array: 0\n"
   ]
  },
  {
   "cell_type": "code",
   "execution_count": 4,
   "metadata": {},
   "outputs": [
    {
     "data": {
      "text/plain": [
       "array([[0, 1],\n",
       "       [2, 3]])"
      ]
     },
     "execution_count": 4,
     "metadata": {},
     "output_type": "execute_result"
    }
   ],
   "source": [
    "a =  np.array([[0,1], [2,3]])\n",
    "a"
   ]
  },
  {
   "cell_type": "code",
   "execution_count": 5,
   "metadata": {},
   "outputs": [
    {
     "data": {
      "text/plain": [
       "array([0, 1, 2, 3])"
      ]
     },
     "execution_count": 5,
     "metadata": {},
     "output_type": "execute_result"
    }
   ],
   "source": [
    "a = a.flatten()\n",
    "a"
   ]
  },
  {
   "cell_type": "code",
   "execution_count": 6,
   "metadata": {},
   "outputs": [
    {
     "data": {
      "text/plain": [
       "np.int64(0)"
      ]
     },
     "execution_count": 6,
     "metadata": {},
     "output_type": "execute_result"
    }
   ],
   "source": [
    "a.min()\n"
   ]
  },
  {
   "cell_type": "code",
   "execution_count": null,
   "metadata": {},
   "outputs": [],
   "source": []
  },
  {
   "cell_type": "code",
   "execution_count": null,
   "metadata": {},
   "outputs": [],
   "source": []
  },
  {
   "cell_type": "code",
   "execution_count": 7,
   "metadata": {},
   "outputs": [
    {
     "data": {
      "text/plain": [
       "np.int64(3)"
      ]
     },
     "execution_count": 7,
     "metadata": {},
     "output_type": "execute_result"
    }
   ],
   "source": [
    "a.max()"
   ]
  },
  {
   "cell_type": "code",
   "execution_count": null,
   "metadata": {},
   "outputs": [],
   "source": []
  },
  {
   "cell_type": "markdown",
   "metadata": {},
   "source": [
    "2. Write a NumPy program to get the minimum and maximum value of a given array in each rows and each column separately. \n",
    "\n",
    "Expected Output:\n",
    "\n",
    "Original array:\n",
    "\n",
    "[[0 1]\n",
    "\n",
    "[2 3]]\n",
    "\n",
    "Maximum value by rows:\n",
    "[1 3]\n",
    "\n",
    "Minimum value by rows:\n",
    "[0 2]\n",
    "\n",
    "Maximum value columns:\n",
    "[2 3]\n",
    "\n",
    "Minimum value columns:\n",
    "[0 1]\n"
   ]
  },
  {
   "cell_type": "code",
   "execution_count": null,
   "metadata": {},
   "outputs": [],
   "source": []
  },
  {
   "cell_type": "code",
   "execution_count": 8,
   "metadata": {},
   "outputs": [
    {
     "data": {
      "text/plain": [
       "array([[0, 1],\n",
       "       [2, 3]])"
      ]
     },
     "execution_count": 8,
     "metadata": {},
     "output_type": "execute_result"
    }
   ],
   "source": [
    "b = np.array([[0, 1], [2, 3]])\n",
    "b"
   ]
  },
  {
   "cell_type": "code",
   "execution_count": 9,
   "metadata": {},
   "outputs": [
    {
     "name": "stdout",
     "output_type": "stream",
     "text": [
      "[0 1]\n",
      "[2 3]\n",
      "[0 2]\n",
      "[1 3]\n"
     ]
    }
   ],
   "source": [
    "print(np.min(b, axis=0))\n",
    "print(np.max(b, axis=0))\n",
    "print(np.min(b, axis=1))\n",
    "print(np.max(b, axis=1))\n"
   ]
  },
  {
   "cell_type": "code",
   "execution_count": null,
   "metadata": {},
   "outputs": [],
   "source": []
  },
  {
   "cell_type": "code",
   "execution_count": null,
   "metadata": {},
   "outputs": [],
   "source": []
  },
  {
   "cell_type": "code",
   "execution_count": null,
   "metadata": {},
   "outputs": [],
   "source": []
  },
  {
   "cell_type": "code",
   "execution_count": null,
   "metadata": {},
   "outputs": [],
   "source": []
  },
  {
   "cell_type": "code",
   "execution_count": null,
   "metadata": {},
   "outputs": [],
   "source": []
  },
  {
   "cell_type": "code",
   "execution_count": null,
   "metadata": {},
   "outputs": [],
   "source": []
  },
  {
   "cell_type": "code",
   "execution_count": null,
   "metadata": {},
   "outputs": [],
   "source": []
  },
  {
   "cell_type": "code",
   "execution_count": null,
   "metadata": {},
   "outputs": [],
   "source": []
  },
  {
   "cell_type": "code",
   "execution_count": null,
   "metadata": {},
   "outputs": [],
   "source": []
  },
  {
   "cell_type": "markdown",
   "metadata": {},
   "source": [
    "3. Write a NumPy program to calculate the difference between the maximum and the minimum values in each row of a given array. \n",
    "\n",
    "Expected Output:\n",
    "\n",
    "Original array:\n",
    "[[ 0 1 2 3 4 5]\n",
    "\n",
    "[ 6 7 8 9 10 11]]\n",
    "\n",
    "Difference between the maximum and the minimum values in each row of the array above:\n",
    "[5 5]\n"
   ]
  },
  {
   "cell_type": "code",
   "execution_count": 10,
   "metadata": {},
   "outputs": [],
   "source": [
    "arr = np.array([[0,1,2,3,4,5], [6,7,8,9,10,11]])"
   ]
  },
  {
   "cell_type": "code",
   "execution_count": 11,
   "metadata": {},
   "outputs": [
    {
     "data": {
      "text/plain": [
       "array([[ 0,  1,  2,  3,  4,  5],\n",
       "       [ 6,  7,  8,  9, 10, 11]])"
      ]
     },
     "execution_count": 11,
     "metadata": {},
     "output_type": "execute_result"
    }
   ],
   "source": [
    "arr"
   ]
  },
  {
   "cell_type": "code",
   "execution_count": 12,
   "metadata": {},
   "outputs": [
    {
     "data": {
      "text/plain": [
       "array([5, 5])"
      ]
     },
     "execution_count": 12,
     "metadata": {},
     "output_type": "execute_result"
    }
   ],
   "source": [
    "diff = np.max(arr, axis=1) - np.min(arr, axis=1)\n",
    "diff"
   ]
  },
  {
   "cell_type": "code",
   "execution_count": null,
   "metadata": {},
   "outputs": [],
   "source": []
  },
  {
   "cell_type": "code",
   "execution_count": null,
   "metadata": {},
   "outputs": [],
   "source": []
  },
  {
   "cell_type": "markdown",
   "metadata": {},
   "source": [
    "4. Write a NumPy program to compute the median of flattened given array.\n",
    "\n",
    "Expected Output:\n",
    "Original array:\n",
    "\n",
    "[[ 0 1 2 3 4 5]\n",
    "[ 6 7 8 9 10 11]]\n",
    "\n",
    "Median of array above :  5.5 \n"
   ]
  },
  {
   "attachments": {
    "image.png": {
     "image/png": "[encoded data removed]"
    }
   },
   "cell_type": "markdown",
   "metadata": {},
   "source": [
    "![image.png](attachment:image.png)"
   ]
  },
  {
   "cell_type": "code",
   "execution_count": 13,
   "metadata": {},
   "outputs": [
    {
     "data": {
      "text/plain": [
       "array([ 0,  1,  2,  3,  4,  5,  6,  7,  8,  9, 10, 11])"
      ]
     },
     "execution_count": 13,
     "metadata": {},
     "output_type": "execute_result"
    }
   ],
   "source": [
    "m = np.array([[0,1,2,3,4,5], [6,7,8,9,10,11]])\n",
    "m = m.flatten()\n",
    "m"
   ]
  },
  {
   "cell_type": "code",
   "execution_count": 14,
   "metadata": {},
   "outputs": [
    {
     "data": {
      "text/plain": [
       "np.float64(5.5)"
      ]
     },
     "execution_count": 14,
     "metadata": {},
     "output_type": "execute_result"
    }
   ],
   "source": [
    "np.median(m)"
   ]
  },
  {
   "cell_type": "code",
   "execution_count": null,
   "metadata": {},
   "outputs": [],
   "source": []
  },
  {
   "cell_type": "code",
   "execution_count": null,
   "metadata": {},
   "outputs": [],
   "source": []
  },
  {
   "cell_type": "code",
   "execution_count": null,
   "metadata": {},
   "outputs": [],
   "source": []
  },
  {
   "cell_type": "code",
   "execution_count": null,
   "metadata": {},
   "outputs": [],
   "source": []
  },
  {
   "cell_type": "code",
   "execution_count": null,
   "metadata": {},
   "outputs": [],
   "source": []
  },
  {
   "cell_type": "markdown",
   "metadata": {},
   "source": [
    "5. Write a NumPy program to compute the median of array, where first row elements of the original array (in question-4) raised to powers from second row elements of this array \n",
    "\n",
    "Expected Output:\n",
    "\n",
    "Median of the described array: 9969.5\n"
   ]
  },
  {
   "cell_type": "code",
   "execution_count": 15,
   "metadata": {},
   "outputs": [
    {
     "data": {
      "text/plain": [
       "array([       0,        1,      256,    19683,  1048576, 48828125])"
      ]
     },
     "execution_count": 15,
     "metadata": {},
     "output_type": "execute_result"
    }
   ],
   "source": [
    "arr = np.array([[0,1,2,3,4,5], [6,7,8,9,10,11]])\n",
    "atp = arr[0] ** arr[1]\n",
    "atp"
   ]
  },
  {
   "cell_type": "code",
   "execution_count": 16,
   "metadata": {},
   "outputs": [
    {
     "data": {
      "text/plain": [
       "np.float64(9969.5)"
      ]
     },
     "execution_count": 16,
     "metadata": {},
     "output_type": "execute_result"
    }
   ],
   "source": [
    "np.median(atp)"
   ]
  },
  {
   "cell_type": "code",
   "execution_count": null,
   "metadata": {},
   "outputs": [],
   "source": []
  },
  {
   "cell_type": "code",
   "execution_count": null,
   "metadata": {},
   "outputs": [],
   "source": []
  },
  {
   "cell_type": "code",
   "execution_count": null,
   "metadata": {},
   "outputs": [],
   "source": []
  },
  {
   "cell_type": "markdown",
   "metadata": {},
   "source": [
    "6. Write a NumPy program to compute the 80th percentile for all elements in a given array \n",
    "\n",
    "Expected Output:\n",
    "\n",
    "Original array:\n",
    "\n",
    "[1.0, 2.0, 3.0, 4.0]\n",
    "\n",
    "80-th percentile: 3.4\n"
   ]
  },
  {
   "cell_type": "code",
   "execution_count": 17,
   "metadata": {},
   "outputs": [
    {
     "data": {
      "text/plain": [
       "np.float64(3.4000000000000004)"
      ]
     },
     "execution_count": 17,
     "metadata": {},
     "output_type": "execute_result"
    }
   ],
   "source": [
    "\n",
    "\n",
    "arr = np.array([1.0, 2.0, 3.0, 4.0])\n",
    "per = np.percentile(arr, 80)\n",
    "per\n",
    "\n"
   ]
  },
  {
   "cell_type": "code",
   "execution_count": null,
   "metadata": {},
   "outputs": [],
   "source": []
  },
  {
   "cell_type": "code",
   "execution_count": null,
   "metadata": {},
   "outputs": [],
   "source": []
  },
  {
   "cell_type": "code",
   "execution_count": null,
   "metadata": {},
   "outputs": [],
   "source": []
  },
  {
   "cell_type": "code",
   "execution_count": null,
   "metadata": {},
   "outputs": [],
   "source": []
  },
  {
   "cell_type": "markdown",
   "metadata": {},
   "source": [
    "7. Write a NumPy program to Find the largest integers less than or equal to dividing each element of the input by 1.5\n",
    "\n",
    "Use function np.floor_divide\n",
    "\n",
    "Original array:\n",
    "\n",
    "[1.0, 2.0, 3.0, 4.0]\n",
    " \n",
    "Expected Output:\n",
    "\n",
    " [ 0. 1. 2. 2.]\n",
    " \n"
   ]
  },
  {
   "cell_type": "code",
   "execution_count": 18,
   "metadata": {},
   "outputs": [
    {
     "data": {
      "text/plain": [
       "array([0., 1., 2., 2.])"
      ]
     },
     "execution_count": 18,
     "metadata": {},
     "output_type": "execute_result"
    }
   ],
   "source": [
    "arr = np.array([1.0, 2.0, 3.0, 4.0])\n",
    "np.floor_divide(arr, 1.5)"
   ]
  },
  {
   "cell_type": "code",
   "execution_count": null,
   "metadata": {},
   "outputs": [],
   "source": []
  },
  {
   "cell_type": "code",
   "execution_count": null,
   "metadata": {},
   "outputs": [],
   "source": []
  },
  {
   "cell_type": "markdown",
   "metadata": {},
   "source": [
    "8. Write a NumPy program to compute the mean, standard deviation (whole population), and variance of a given array, use axis=0. \n",
    "\n",
    "Original array:\n",
    "\n",
    "[0 1 2 3 4 5]\n",
    "\n",
    "mean: 2.5\n",
    "\n",
    "std: 1.707825\n",
    "\n",
    "variance: 2.916667\n"
   ]
  },
  {
   "cell_type": "code",
   "execution_count": 19,
   "metadata": {},
   "outputs": [
    {
     "data": {
      "text/plain": [
       "array([0, 1, 2, 3, 4, 5])"
      ]
     },
     "execution_count": 19,
     "metadata": {},
     "output_type": "execute_result"
    }
   ],
   "source": [
    "arr = np.array([0,1,2,3,4,5])\n",
    "arr"
   ]
  },
  {
   "cell_type": "code",
   "execution_count": null,
   "metadata": {},
   "outputs": [],
   "source": []
  },
  {
   "cell_type": "code",
   "execution_count": 20,
   "metadata": {},
   "outputs": [
    {
     "data": {
      "text/plain": [
       "np.float64(2.5)"
      ]
     },
     "execution_count": 20,
     "metadata": {},
     "output_type": "execute_result"
    }
   ],
   "source": [
    "np.mean(arr)"
   ]
  },
  {
   "cell_type": "code",
   "execution_count": null,
   "metadata": {},
   "outputs": [],
   "source": []
  },
  {
   "cell_type": "code",
   "execution_count": 21,
   "metadata": {},
   "outputs": [
    {
     "data": {
      "text/plain": [
       "np.float64(1.707825127659933)"
      ]
     },
     "execution_count": 21,
     "metadata": {},
     "output_type": "execute_result"
    }
   ],
   "source": [
    "np.std(arr)"
   ]
  },
  {
   "cell_type": "code",
   "execution_count": null,
   "metadata": {},
   "outputs": [],
   "source": []
  },
  {
   "cell_type": "code",
   "execution_count": 22,
   "metadata": {},
   "outputs": [
    {
     "data": {
      "text/plain": [
       "np.float64(2.9166666666666665)"
      ]
     },
     "execution_count": 22,
     "metadata": {},
     "output_type": "execute_result"
    }
   ],
   "source": [
    "np.var(arr,axis=0)"
   ]
  },
  {
   "cell_type": "code",
   "execution_count": null,
   "metadata": {},
   "outputs": [],
   "source": []
  },
  {
   "cell_type": "code",
   "execution_count": null,
   "metadata": {},
   "outputs": [],
   "source": []
  },
  {
   "cell_type": "code",
   "execution_count": null,
   "metadata": {},
   "outputs": [],
   "source": []
  },
  {
   "cell_type": "markdown",
   "metadata": {},
   "source": [
    "check by calculating the standard deviation formula (whole population)\n"
   ]
  },
  {
   "attachments": {
    "image.png": {
     "image/png": "[encoded data removed]"
    }
   },
   "cell_type": "markdown",
   "metadata": {},
   "source": [
    "![image.png](attachment:image.png)"
   ]
  },
  {
   "cell_type": "code",
   "execution_count": null,
   "metadata": {},
   "outputs": [],
   "source": []
  },
  {
   "cell_type": "code",
   "execution_count": null,
   "metadata": {},
   "outputs": [],
   "source": []
  },
  {
   "cell_type": "code",
   "execution_count": null,
   "metadata": {},
   "outputs": [],
   "source": []
  },
  {
   "cell_type": "markdown",
   "metadata": {},
   "source": [
    "check by calculating using the dispersion formula\n"
   ]
  },
  {
   "cell_type": "code",
   "execution_count": 23,
   "metadata": {},
   "outputs": [
    {
     "data": {
      "text/plain": [
       "np.float64(2.9166666666666665)"
      ]
     },
     "execution_count": 23,
     "metadata": {},
     "output_type": "execute_result"
    }
   ],
   "source": [
    "disp = np.var(arr)\n",
    "disp"
   ]
  },
  {
   "cell_type": "code",
   "execution_count": null,
   "metadata": {},
   "outputs": [],
   "source": []
  },
  {
   "cell_type": "code",
   "execution_count": null,
   "metadata": {},
   "outputs": [],
   "source": []
  },
  {
   "cell_type": "markdown",
   "metadata": {},
   "source": [
    "9. Write a NumPy program to compute the covariance matrix of two given arrays. \n",
    "\n",
    "Original array1:\n",
    "\n",
    "[0 1 2]\n",
    "\n",
    "Original array1:\n",
    "\n",
    "[2 1 0]\n",
    "\n",
    "Covariance matrix of the said arrays:\n",
    "\n",
    "[[ 1. -1.]\n",
    "\n",
    "[-1. 1.]]\n",
    "\n"
   ]
  },
  {
   "cell_type": "markdown",
   "metadata": {},
   "source": [
    "In probability theory and statistics, a covariance matrix (also known as auto-covariance matrix, dispersion matrix, variance matrix, or variance–covariance matrix) is a square matrix giving the covariance between each pair of elements of a given random vector. Any covariance matrix is symmetric and positive semi-definite and its main diagonal contains variances (i.e., the covariance of each element with itself).\n"
   ]
  },
  {
   "cell_type": "code",
   "execution_count": 24,
   "metadata": {},
   "outputs": [
    {
     "data": {
      "text/plain": [
       "array([[ 1., -1.],\n",
       "       [-1.,  1.]])"
      ]
     },
     "execution_count": 24,
     "metadata": {},
     "output_type": "execute_result"
    }
   ],
   "source": [
    "\n",
    "arr1 = np.array([0,1,2])\n",
    "arr2 = np.array([2,1,0])\n",
    "\n",
    "np.cov(arr1, arr2)"
   ]
  },
  {
   "cell_type": "code",
   "execution_count": null,
   "metadata": {},
   "outputs": [],
   "source": []
  },
  {
   "cell_type": "code",
   "execution_count": null,
   "metadata": {},
   "outputs": [],
   "source": []
  },
  {
   "cell_type": "code",
   "execution_count": null,
   "metadata": {},
   "outputs": [],
   "source": []
  },
  {
   "cell_type": "code",
   "execution_count": null,
   "metadata": {},
   "outputs": [],
   "source": []
  },
  {
   "cell_type": "code",
   "execution_count": null,
   "metadata": {},
   "outputs": [],
   "source": []
  },
  {
   "cell_type": "code",
   "execution_count": null,
   "metadata": {},
   "outputs": [],
   "source": []
  },
  {
   "cell_type": "markdown",
   "metadata": {},
   "source": [
    "10. Write a NumPy program to compute pearson product-moment correlation coefficients of two given arrays.\n",
    "\n",
    "Original array1:\n",
    "\n",
    "[0 1 3]\n",
    "\n",
    "Original array1:\n",
    "\n",
    "[2 4 5]\n",
    "\n",
    "Pearson product-moment correlation coefficients of the said arrays:\n",
    "\n",
    "[[1. 0.92857143]\n",
    "\n",
    "[0.92857143 1. ]]\n",
    "\n"
   ]
  },
  {
   "cell_type": "markdown",
   "metadata": {},
   "source": [
    "In statistics, the Pearson correlation coefficient (PCC, pronounced /ˈpɪərsən/) ― also known as Pearson's r, the Pearson product-moment correlation coefficient (PPMCC), the bivariate correlation, or colloquially simply as the correlation coefficient ― is a measure of linear correlation between two sets of data. It is the ratio between the covariance of two variables and the product of their standard deviations; thus, it is essentially a normalized measurement of the covariance, such that the result always has a value between −1 and 1. As with covariance itself, the measure can only reflect a linear correlation of variables, and ignores many other types of relationships or correlations. As a simple example, one would expect the age and height of a sample of teenagers from a high school to have a Pearson correlation coefficient significantly greater than 0, but less than 1 (as 1 would represent an unrealistically perfect correlation).\n"
   ]
  },
  {
   "cell_type": "code",
   "execution_count": 25,
   "metadata": {},
   "outputs": [
    {
     "name": "stdout",
     "output_type": "stream",
     "text": [
      "\u001b[0;31mSignature:\u001b[0m      \n",
      "\u001b[0mnp\u001b[0m\u001b[0;34m.\u001b[0m\u001b[0mcorrcoef\u001b[0m\u001b[0;34m(\u001b[0m\u001b[0;34m\u001b[0m\n",
      "\u001b[0;34m\u001b[0m    \u001b[0mx\u001b[0m\u001b[0;34m,\u001b[0m\u001b[0;34m\u001b[0m\n",
      "\u001b[0;34m\u001b[0m    \u001b[0my\u001b[0m\u001b[0;34m=\u001b[0m\u001b[0;32mNone\u001b[0m\u001b[0;34m,\u001b[0m\u001b[0;34m\u001b[0m\n",
      "\u001b[0;34m\u001b[0m    \u001b[0mrowvar\u001b[0m\u001b[0;34m=\u001b[0m\u001b[0;32mTrue\u001b[0m\u001b[0;34m,\u001b[0m\u001b[0;34m\u001b[0m\n",
      "\u001b[0;34m\u001b[0m    \u001b[0mbias\u001b[0m\u001b[0;34m=\u001b[0m\u001b[0;34m<\u001b[0m\u001b[0mno\u001b[0m \u001b[0mvalue\u001b[0m\u001b[0;34m>\u001b[0m\u001b[0;34m,\u001b[0m\u001b[0;34m\u001b[0m\n",
      "\u001b[0;34m\u001b[0m    \u001b[0mddof\u001b[0m\u001b[0;34m=\u001b[0m\u001b[0;34m<\u001b[0m\u001b[0mno\u001b[0m \u001b[0mvalue\u001b[0m\u001b[0;34m>\u001b[0m\u001b[0;34m,\u001b[0m\u001b[0;34m\u001b[0m\n",
      "\u001b[0;34m\u001b[0m    \u001b[0;34m*\u001b[0m\u001b[0;34m,\u001b[0m\u001b[0;34m\u001b[0m\n",
      "\u001b[0;34m\u001b[0m    \u001b[0mdtype\u001b[0m\u001b[0;34m=\u001b[0m\u001b[0;32mNone\u001b[0m\u001b[0;34m,\u001b[0m\u001b[0;34m\u001b[0m\n",
      "\u001b[0;34m\u001b[0m\u001b[0;34m)\u001b[0m\u001b[0;34m\u001b[0m\u001b[0;34m\u001b[0m\u001b[0m\n",
      "\u001b[0;31mCall signature:\u001b[0m  \u001b[0mnp\u001b[0m\u001b[0;34m.\u001b[0m\u001b[0mcorrcoef\u001b[0m\u001b[0;34m(\u001b[0m\u001b[0;34m*\u001b[0m\u001b[0margs\u001b[0m\u001b[0;34m,\u001b[0m \u001b[0;34m**\u001b[0m\u001b[0mkwargs\u001b[0m\u001b[0;34m)\u001b[0m\u001b[0;34m\u001b[0m\u001b[0;34m\u001b[0m\u001b[0m\n",
      "\u001b[0;31mType:\u001b[0m            _ArrayFunctionDispatcher\n",
      "\u001b[0;31mString form:\u001b[0m     <function corrcoef at 0x7faa72ba7f60>\n",
      "\u001b[0;31mFile:\u001b[0m            ~/Desktop/Projects/intro-ml/.venv/lib64/python3.12/site-packages/numpy/lib/_function_base_impl.py\n",
      "\u001b[0;31mDocstring:\u001b[0m      \n",
      "Return Pearson product-moment correlation coefficients.\n",
      "\n",
      "Please refer to the documentation for `cov` for more detail.  The\n",
      "relationship between the correlation coefficient matrix, `R`, and the\n",
      "covariance matrix, `C`, is\n",
      "\n",
      ".. math:: R_{ij} = \\frac{ C_{ij} } { \\sqrt{ C_{ii} C_{jj} } }\n",
      "\n",
      "The values of `R` are between -1 and 1, inclusive.\n",
      "\n",
      "Parameters\n",
      "----------\n",
      "x : array_like\n",
      "    A 1-D or 2-D array containing multiple variables and observations.\n",
      "    Each row of `x` represents a variable, and each column a single\n",
      "    observation of all those variables. Also see `rowvar` below.\n",
      "y : array_like, optional\n",
      "    An additional set of variables and observations. `y` has the same\n",
      "    shape as `x`.\n",
      "rowvar : bool, optional\n",
      "    If `rowvar` is True (default), then each row represents a\n",
      "    variable, with observations in the columns. Otherwise, the relationship\n",
      "    is transposed: each column represents a variable, while the rows\n",
      "    contain observations.\n",
      "bias : _NoValue, optional\n",
      "    Has no effect, do not use.\n",
      "\n",
      "    .. deprecated:: 1.10.0\n",
      "ddof : _NoValue, optional\n",
      "    Has no effect, do not use.\n",
      "\n",
      "    .. deprecated:: 1.10.0\n",
      "dtype : data-type, optional\n",
      "    Data-type of the result. By default, the return data-type will have\n",
      "    at least `numpy.float64` precision.\n",
      "\n",
      "    .. versionadded:: 1.20\n",
      "\n",
      "Returns\n",
      "-------\n",
      "R : ndarray\n",
      "    The correlation coefficient matrix of the variables.\n",
      "\n",
      "See Also\n",
      "--------\n",
      "cov : Covariance matrix\n",
      "\n",
      "Notes\n",
      "-----\n",
      "Due to floating point rounding the resulting array may not be Hermitian,\n",
      "the diagonal elements may not be 1, and the elements may not satisfy the\n",
      "inequality abs(a) <= 1. The real and imaginary parts are clipped to the\n",
      "interval [-1,  1] in an attempt to improve on that situation but is not\n",
      "much help in the complex case.\n",
      "\n",
      "This function accepts but discards arguments `bias` and `ddof`.  This is\n",
      "for backwards compatibility with previous versions of this function.  These\n",
      "arguments had no effect on the return values of the function and can be\n",
      "safely ignored in this and previous versions of numpy.\n",
      "\n",
      "Examples\n",
      "--------\n",
      ">>> import numpy as np\n",
      "\n",
      "In this example we generate two random arrays, ``xarr`` and ``yarr``, and\n",
      "compute the row-wise and column-wise Pearson correlation coefficients,\n",
      "``R``. Since ``rowvar`` is  true by  default, we first find the row-wise\n",
      "Pearson correlation coefficients between the variables of ``xarr``.\n",
      "\n",
      ">>> import numpy as np\n",
      ">>> rng = np.random.default_rng(seed=42)\n",
      ">>> xarr = rng.random((3, 3))\n",
      ">>> xarr\n",
      "array([[0.77395605, 0.43887844, 0.85859792],\n",
      "       [0.69736803, 0.09417735, 0.97562235],\n",
      "       [0.7611397 , 0.78606431, 0.12811363]])\n",
      ">>> R1 = np.corrcoef(xarr)\n",
      ">>> R1\n",
      "array([[ 1.        ,  0.99256089, -0.68080986],\n",
      "       [ 0.99256089,  1.        , -0.76492172],\n",
      "       [-0.68080986, -0.76492172,  1.        ]])\n",
      "\n",
      "If we add another set of variables and observations ``yarr``, we can\n",
      "compute the row-wise Pearson correlation coefficients between the\n",
      "variables in ``xarr`` and ``yarr``.\n",
      "\n",
      ">>> yarr = rng.random((3, 3))\n",
      ">>> yarr\n",
      "array([[0.45038594, 0.37079802, 0.92676499],\n",
      "       [0.64386512, 0.82276161, 0.4434142 ],\n",
      "       [0.22723872, 0.55458479, 0.06381726]])\n",
      ">>> R2 = np.corrcoef(xarr, yarr)\n",
      ">>> R2\n",
      "array([[ 1.        ,  0.99256089, -0.68080986,  0.75008178, -0.934284  ,\n",
      "        -0.99004057],\n",
      "       [ 0.99256089,  1.        , -0.76492172,  0.82502011, -0.97074098,\n",
      "        -0.99981569],\n",
      "       [-0.68080986, -0.76492172,  1.        , -0.99507202,  0.89721355,\n",
      "         0.77714685],\n",
      "       [ 0.75008178,  0.82502011, -0.99507202,  1.        , -0.93657855,\n",
      "        -0.83571711],\n",
      "       [-0.934284  , -0.97074098,  0.89721355, -0.93657855,  1.        ,\n",
      "         0.97517215],\n",
      "       [-0.99004057, -0.99981569,  0.77714685, -0.83571711,  0.97517215,\n",
      "         1.        ]])\n",
      "\n",
      "Finally if we use the option ``rowvar=False``, the columns are now\n",
      "being treated as the variables and we will find the column-wise Pearson\n",
      "correlation coefficients between variables in ``xarr`` and ``yarr``.\n",
      "\n",
      ">>> R3 = np.corrcoef(xarr, yarr, rowvar=False)\n",
      ">>> R3\n",
      "array([[ 1.        ,  0.77598074, -0.47458546, -0.75078643, -0.9665554 ,\n",
      "         0.22423734],\n",
      "       [ 0.77598074,  1.        , -0.92346708, -0.99923895, -0.58826587,\n",
      "        -0.44069024],\n",
      "       [-0.47458546, -0.92346708,  1.        ,  0.93773029,  0.23297648,\n",
      "         0.75137473],\n",
      "       [-0.75078643, -0.99923895,  0.93773029,  1.        ,  0.55627469,\n",
      "         0.47536961],\n",
      "       [-0.9665554 , -0.58826587,  0.23297648,  0.55627469,  1.        ,\n",
      "        -0.46666491],\n",
      "       [ 0.22423734, -0.44069024,  0.75137473,  0.47536961, -0.46666491,\n",
      "         1.        ]])\n",
      "\u001b[0;31mClass docstring:\u001b[0m\n",
      "Class to wrap functions with checks for __array_function__ overrides.\n",
      "\n",
      "All arguments are required, and can only be passed by position.\n",
      "\n",
      "Parameters\n",
      "----------\n",
      "dispatcher : function or None\n",
      "    The dispatcher function that returns a single sequence-like object\n",
      "    of all arguments relevant.  It must have the same signature (except\n",
      "    the default values) as the actual implementation.\n",
      "    If ``None``, this is a ``like=`` dispatcher and the\n",
      "    ``_ArrayFunctionDispatcher`` must be called with ``like`` as the\n",
      "    first (additional and positional) argument.\n",
      "implementation : function\n",
      "    Function that implements the operation on NumPy arrays without\n",
      "    overrides.  Arguments passed calling the ``_ArrayFunctionDispatcher``\n",
      "    will be forwarded to this (and the ``dispatcher``) as if using\n",
      "    ``*args, **kwargs``.\n",
      "\n",
      "Attributes\n",
      "----------\n",
      "_implementation : function\n",
      "    The original implementation passed in."
     ]
    }
   ],
   "source": [
    "np.corrcoef?"
   ]
  },
  {
   "cell_type": "code",
   "execution_count": 26,
   "metadata": {},
   "outputs": [
    {
     "data": {
      "text/plain": [
       "array([[1.        , 0.92857143],\n",
       "       [0.92857143, 1.        ]])"
      ]
     },
     "execution_count": 26,
     "metadata": {},
     "output_type": "execute_result"
    }
   ],
   "source": [
    "arr1 = np.array([0,1,3])\n",
    "arr2 = np.array([2,4,5])\n",
    "\n",
    "np.corrcoef(arr1, arr2)\n"
   ]
  },
  {
   "cell_type": "code",
   "execution_count": null,
   "metadata": {},
   "outputs": [],
   "source": []
  },
  {
   "cell_type": "code",
   "execution_count": null,
   "metadata": {},
   "outputs": [],
   "source": []
  }
 ],
 "metadata": {
  "kernelspec": {
   "display_name": ".venv",
   "language": "python",
   "name": "python3"
  },
  "language_info": {
   "codemirror_mode": {
    "name": "ipython",
    "version": 3
   },
   "file_extension": ".py",
   "mimetype": "text/x-python",
   "name": "python",
   "nbconvert_exporter": "python",
   "pygments_lexer": "ipython3",
   "version": "3.12.6"
  }
 },
 "nbformat": 4,
 "nbformat_minor": 4
}
